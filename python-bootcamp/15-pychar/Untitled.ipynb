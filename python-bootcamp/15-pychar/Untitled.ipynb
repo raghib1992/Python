{
 "cells": [
  {
   "cell_type": "code",
   "execution_count": 8,
   "id": "1e1ec392-2eb9-43a5-9719-33a40aac9115",
   "metadata": {},
   "outputs": [],
   "source": [
    "raghib = {\n",
    "    \"age\" : 32,\n",
    "    \"salary\" : 100\n",
    "}"
   ]
  },
  {
   "cell_type": "code",
   "execution_count": 9,
   "id": "ab5790b8-36b3-4b1d-b74d-5d327a9e88b8",
   "metadata": {},
   "outputs": [],
   "source": [
    "uzma = {\n",
    "    \"age\" : 24,\n",
    "    \"salary\" : 100\n",
    "}"
   ]
  },
  {
   "cell_type": "code",
   "execution_count": 12,
   "id": "1a3e1d83-ab0c-4d44-981d-6459dd9ef8be",
   "metadata": {},
   "outputs": [
    {
     "name": "stdout",
     "output_type": "stream",
     "text": [
      "Yes\n",
      "Yes\n"
     ]
    }
   ],
   "source": [
    "for item in raghib:\n",
    "    if raghib[item] >= uzma[item]:\n",
    "        print(\"Yes\")"
   ]
  },
  {
   "cell_type": "code",
   "execution_count": null,
   "id": "15b781ac-c8ff-4e41-b213-fc3288617d03",
   "metadata": {},
   "outputs": [],
   "source": []
  }
 ],
 "metadata": {
  "kernelspec": {
   "display_name": "Python 3 (ipykernel)",
   "language": "python",
   "name": "python3"
  },
  "language_info": {
   "codemirror_mode": {
    "name": "ipython",
    "version": 3
   },
   "file_extension": ".py",
   "mimetype": "text/x-python",
   "name": "python",
   "nbconvert_exporter": "python",
   "pygments_lexer": "ipython3",
   "version": "3.10.12"
  }
 },
 "nbformat": 4,
 "nbformat_minor": 5
}
